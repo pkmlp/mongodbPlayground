{
 "cells": [
  {
   "cell_type": "markdown",
   "metadata": {},
   "source": [
    "# Python und MongoDB"
   ]
  },
  {
   "cell_type": "markdown",
   "metadata": {},
   "source": [
    "Dieses Beispiel setzt einen laufenden MongoDB-Server mit aktivierter Authentifizierung und ein User (mit Namen und Passwort \"pkmlp\") für die Datenbank \"meineDatenbank\" auf Localhost voraus. Dieses Programm zeigt die Bearbeitung (**CRUD** von Dokumenten) einer MOngoDB Datenbank aus einem Python-Programm. Zur Kontrolle und zur Verfolgung der einzelnen Schritte dieses Beispiel-Programmes ist weiter ein MongoDB-GUI (z.B. MongoDB Compass, Studio 3t, etc.) sehr empfohlen. Kontrolliere in einem der MongoDB-GUIs oder im Mongo-Terminal ob die Datenbank \"meineDatenbank\" und der User \"pkmlp\" vorhanden ist. "
   ]
  },
  {
   "cell_type": "markdown",
   "metadata": {},
   "source": [
    "## Erstellen der Verbindung zum Datenbank Server "
   ]
  },
  {
   "cell_type": "markdown",
   "metadata": {},
   "source": [
    "Um aus Python auf eine Datenbank (hier die NoSQL-Datenbank MongoDB) zugreifen zu können, muss eine entsprechende Bibliothek (API - Application Programming Interface) eingebunden werden. "
   ]
  },
  {
   "cell_type": "code",
   "execution_count": null,
   "metadata": {},
   "outputs": [],
   "source": [
    "import pymongo"
   ]
  },
  {
   "cell_type": "markdown",
   "metadata": {},
   "source": [
    "Definition der Datenbank-Parameter als Konstanten."
   ]
  },
  {
   "cell_type": "code",
   "execution_count": null,
   "metadata": {},
   "outputs": [],
   "source": [
    "DATABASE_HOST      =  \"localhost\"\n",
    "DATABASE_PORT      =  \"27017\"\n",
    "DATABASE_USER      =  \"pkmlp\"\n",
    "DATABASE_PASSWORT  =  \"pkmlp\"\n",
    "DATABASE_NAME      =  \"meineDatenbank\"\n",
    "COLLECTION_NAME    =  \"meineSammlung\""
   ]
  },
  {
   "cell_type": "markdown",
   "metadata": {},
   "source": [
    "Als nächstes muss eine Verbindung zur Datenbank (mit den oben definierten Credentials) hergestellt werden.  "
   ]
  },
  {
   "cell_type": "code",
   "execution_count": null,
   "metadata": {},
   "outputs": [],
   "source": [
    "try:\n",
    "    dbVerbindung = pymongo.MongoClient('mongodb://'+DATABASE_USER+':'+DATABASE_PASSWORT+'@'+\n",
    "                                       DATABASE_HOST+':'+DATABASE_PORT+'/'+DATABASE_NAME)\n",
    "    print(\"\\nVerbindung zu MongoDB erstellt\\n\")\n",
    "except pymongo.errors.ConnectionFailure as VerbindungsFehler:\n",
    "    print(\"\\nKeine Verbindung zu MongoDB: \", VerbindungsFehler, \" - Programmabbruch\\n\")"
   ]
  },
  {
   "cell_type": "markdown",
   "metadata": {},
   "source": [
    "## Auswählen der Datenbank und der Sammlung"
   ]
  },
  {
   "cell_type": "markdown",
   "metadata": {},
   "source": [
    "Verbindung konnte erstellt werden, nun die Datenbank ..."
   ]
  },
  {
   "cell_type": "code",
   "execution_count": null,
   "metadata": {},
   "outputs": [],
   "source": [
    "db = dbVerbindung[DATABASE_NAME]"
   ]
  },
  {
   "cell_type": "markdown",
   "metadata": {},
   "source": [
    "... und die Collection in der Datenbank wählen"
   ]
  },
  {
   "cell_type": "code",
   "execution_count": null,
   "metadata": {},
   "outputs": [],
   "source": [
    "sammlung = db[COLLECTION_NAME]"
   ]
  },
  {
   "cell_type": "markdown",
   "metadata": {},
   "source": [
    "## Kontrolliere im MongoDB-GUI oder im mongo Terminal ob die Collection wirklich leer ist."
   ]
  },
  {
   "cell_type": "markdown",
   "metadata": {},
   "source": [
    "Die Collection muss nicht zwingend leer sein. Ist sie es nicht, so muss der Anfangs-Datenbestand berücksichtigt werden. Das heisst, die nachfolgend eingefügten (**C**reate), gelesenen (**R**ead), mutierten (**U**pdate) und gelöschten (**D**elete) Dokumente sind immer auch mit den allenfalls bereits vorhandenen Dokumenten \"zu sehen\". Dieses Beispiel ist besser zu Interpretieren, wenn die Sammlung vor Beginn leer ist."
   ]
  },
  {
   "cell_type": "markdown",
   "metadata": {},
   "source": [
    "Definieren von zwei Dokumenten. Beachte: die Dokumente müssen nicht eine einheitliche Struktur (gleiche Attribute) haben. "
   ]
  },
  {
   "cell_type": "code",
   "execution_count": null,
   "metadata": {},
   "outputs": [],
   "source": [
    "dokument_1 = { \"firstname\":\"peter\",\n",
    "               \"lastname\":\"Kessler\",\n",
    "               \"contactdata\":{\n",
    "                   \"email\":\"peter.kessler@students.ffhs.ch\",\n",
    "                   \"mobile\":\"+41 79 670 01 13\",\n",
    "                   \"home\":\"+41 44 371 75 62\"\n",
    "               }\n",
    "             }\n",
    "\n",
    "dokument_2 = { \"firstname\":\"Ursula\",\n",
    "               \"lastname\":\"Deriu\",\n",
    "               \"contactdata\":{\n",
    "                   \"email\":\"ursula.deriu@ffhs.ch\"\n",
    "               },\n",
    "               \"role\":\"Teacher CAS Big Data\"\n",
    "             }\n"
   ]
  },
  {
   "cell_type": "markdown",
   "metadata": {},
   "source": [
    "## CRUD - Create, Read, Update, Delete von Dokumenten"
   ]
  },
  {
   "cell_type": "markdown",
   "metadata": {},
   "source": [
    "### Create - Einfügen von Dokumenten  "
   ]
  },
  {
   "cell_type": "markdown",
   "metadata": {},
   "source": [
    "Einfügen der einzeln definierten Dokumente in die Datenbank/Collection"
   ]
  },
  {
   "cell_type": "code",
   "execution_count": null,
   "metadata": {},
   "outputs": [],
   "source": [
    "insertedKey = sammlung.insert_one(dokument_1)\n",
    "print(\"\\nPrimekey des eingefügten Dokumentes: \", insertedKey.inserted_id)\n",
    "\n",
    "insertedKey = sammlung.insert_one(dokument_2)\n",
    "print(\"Primekey des eingefügten Dokumentes: \", insertedKey.inserted_id)\n"
   ]
  },
  {
   "cell_type": "markdown",
   "metadata": {},
   "source": [
    "#### Kontrolliere in MongoClient, MongoBooster oder im mongo Terminal die Collection."
   ]
  },
  {
   "cell_type": "markdown",
   "metadata": {},
   "source": [
    "War die Sammlung zu Beginn leer, so dürfen jetzt nur die 2 obigen Dokumente drin sein. War die Sammlung zu Beginn nicht leer, so sind jetzt zusätzlich zu den bereits vorhandenen Dokumenten die obigen 2 in der Sammlung.\n",
    "\n",
    "Da MongoDB automatisch einen eindeutigen Primärschlüssel (\\_id) anlegt, können die gleichen Dokumente mehrfach erfasst werden. Will ich das verhindern, so muss der Primärschlüssel beim Einfügen eines Dokumentes ebenfalls angegeben werden."
   ]
  },
  {
   "cell_type": "markdown",
   "metadata": {},
   "source": [
    "### Read - Lesen von Dokumenten "
   ]
  },
  {
   "cell_type": "markdown",
   "metadata": {},
   "source": [
    "Lesen aller Dokumente aus der Datenbank\n",
    "Hinweis: Die Reihenfolge der einzelnen Attribute in einer Zeile sind nicht definiert.\n",
    "Darum müssen Attribute gezielt mit dem Key aus dem Cursor gelesen werden."
   ]
  },
  {
   "cell_type": "code",
   "execution_count": null,
   "metadata": {},
   "outputs": [],
   "source": [
    "print(\"Lesen aller Dokumente nach Create\")\n",
    "dokumentCursor = sammlung.find()\n",
    "for dokument in dokumentCursor:\n",
    "    print(dokument)"
   ]
  },
  {
   "cell_type": "code",
   "execution_count": null,
   "metadata": {},
   "outputs": [],
   "source": [
    "print(\"\\nLesen aller Dokumente aber nur bestimmte Attribute ausgeben\")\n",
    "dokumentCursor = sammlung.find()\n",
    "for dokument in dokumentCursor:\n",
    "    print(dokument.get(\"firstname\"), dokument.get(\"lastname\"), dokument.get(\"role\", \"keine Rolle erfasst\"))"
   ]
  },
  {
   "cell_type": "markdown",
   "metadata": {},
   "source": [
    "Lesen von Dokumenten mit Suchkriterium 'Vorname = Ursula'"
   ]
  },
  {
   "cell_type": "code",
   "execution_count": null,
   "metadata": {},
   "outputs": [],
   "source": [
    "dokumentCursor = sammlung.find({\"firstname\":\"Ursula\"})\n",
    "for dokument in dokumentCursor:\n",
    "    print(dokument)"
   ]
  },
  {
   "cell_type": "markdown",
   "metadata": {},
   "source": [
    "Lesen von Dokumenten mit Suchkriterium 'Vorname ungleich Ursula'"
   ]
  },
  {
   "cell_type": "code",
   "execution_count": null,
   "metadata": {},
   "outputs": [],
   "source": [
    "dokumentCursor = sammlung.find({\"firstname\":{\"$ne\":\"Ursula\"}})\n",
    "for dokument in dokumentCursor:\n",
    "    print(dokument)"
   ]
  },
  {
   "cell_type": "markdown",
   "metadata": {},
   "source": [
    "Lesen von Dokumenten mit Suchkriterien 'Vorname = Ursula und Name = Deriu'"
   ]
  },
  {
   "cell_type": "code",
   "execution_count": null,
   "metadata": {},
   "outputs": [],
   "source": [
    "dokumentCursor = sammlung.find({\"firstname\":\"Ursula\",\"lastname\":\"Deriu\"})\n",
    "for dokument in dokumentCursor:\n",
    "    print(dokument)"
   ]
  },
  {
   "cell_type": "markdown",
   "metadata": {},
   "source": [
    "Lesen von Dokumenten mit Suchkriterium 'Name beginnt mit K'"
   ]
  },
  {
   "cell_type": "code",
   "execution_count": null,
   "metadata": {},
   "outputs": [],
   "source": [
    "dokumentCursor = sammlung.find({\"lastname\":{\"$gt\":\"K\",\"$lt\":\"L\"}})\n",
    "for dokument in dokumentCursor:\n",
    "    print(dokument)"
   ]
  },
  {
   "cell_type": "markdown",
   "metadata": {},
   "source": [
    "### Update - Mutieren (ändern) von Dokumenten"
   ]
  },
  {
   "cell_type": "markdown",
   "metadata": {},
   "source": [
    "Updaten eines ganz bestimmten Dokumentes in der Sammlung und zur Kontrolle vor- und nachher alles ausgeben."
   ]
  },
  {
   "cell_type": "code",
   "execution_count": null,
   "metadata": {},
   "outputs": [],
   "source": [
    "print(\"\\nLesen aller Dokumente vor Update\")\n",
    "dokumentCursor = sammlung.find()\n",
    "for dokument in dokumentCursor:\n",
    "    print(dokument)\n",
    "    \n",
    "print(\"\\nUpdate des Dokumentes: peter --> Peter\")\n",
    "sammlung.update_one({\"firstname\":\"peter\"},{\"$set\":{\"firstname\":\"Peter\"}})\n",
    "\n",
    "print(\"\\nLesen aller Dokumente nach Update\")\n",
    "dokumentCursor = sammlung.find()\n",
    "for dokument in dokumentCursor:\n",
    "    print(dokument)"
   ]
  },
  {
   "cell_type": "markdown",
   "metadata": {},
   "source": [
    "Kontrolliere im MongoDB-GUI oder im mongo Terminal die Collection."
   ]
  },
  {
   "cell_type": "markdown",
   "metadata": {},
   "source": [
    "### Delete - Löschen von Dokumenten"
   ]
  },
  {
   "cell_type": "markdown",
   "metadata": {},
   "source": [
    "Löschen eines Dokumentes aus der Sammlung"
   ]
  },
  {
   "cell_type": "code",
   "execution_count": null,
   "metadata": {},
   "outputs": [],
   "source": [
    "print(\"\\nLesen aller Dokumente vor Delete\")\n",
    "dokumentCursor = sammlung.find()\n",
    "for dokument in dokumentCursor:\n",
    "    print(dokument)\n",
    "    \n",
    "print(\"\\nLöschen des Dokumentes: Peter Kessler\")\n",
    "anzDelete = sammlung.delete_one({\"firstname\":\"Peter\", \"lastname\":\"Kessler\"})\n",
    "print(\"Anzahl gelöschter Dokumente: \", anzDelete.deleted_count)\n",
    "\n",
    "print(\"\\nLesen aller Dokumente nach Delete\")\n",
    "dokumentCursor = sammlung.find()\n",
    "for dokument in dokumentCursor:\n",
    "    print(dokument)"
   ]
  },
  {
   "cell_type": "markdown",
   "metadata": {},
   "source": [
    "Löschen aller Dokumente aus der Sammlung"
   ]
  },
  {
   "cell_type": "code",
   "execution_count": null,
   "metadata": {},
   "outputs": [],
   "source": [
    "print(\"\\nLesen aller Dokumente vor Delete all\")\n",
    "dokumentCursor = sammlung.find()\n",
    "for dokument in dokumentCursor:\n",
    "    print(dokument)\n",
    "    \n",
    "print(\"\\nLöschen aller Dokumente\")\n",
    "anzDelete = sammlung.delete_many({})\n",
    "print(\"Anzahl gelöschter Dokumente: \", anzDelete.deleted_count)\n",
    "\n",
    "print(\"\\nLesen aller Dokumente nach Delete all\")\n",
    "dokumentCursor = sammlung.find()\n",
    "for dokument in dokumentCursor:\n",
    "    print(dokument)"
   ]
  },
  {
   "cell_type": "markdown",
   "metadata": {},
   "source": [
    "Kontrolliere im MongoDB-GUI oder im mongo Terminal ob die Collection wirklich leer ist."
   ]
  },
  {
   "cell_type": "markdown",
   "metadata": {},
   "source": [
    "## Löschen der Sammlung sowie Verbindung zur Datenbank beenden"
   ]
  },
  {
   "cell_type": "code",
   "execution_count": null,
   "metadata": {},
   "outputs": [],
   "source": [
    "sammlung.drop()"
   ]
  },
  {
   "cell_type": "code",
   "execution_count": null,
   "metadata": {},
   "outputs": [],
   "source": [
    "dbVerbindung.close()"
   ]
  },
  {
   "cell_type": "markdown",
   "metadata": {},
   "source": [
    "That's all folks"
   ]
  }
 ],
 "metadata": {
  "kernelspec": {
   "display_name": "Python 3",
   "language": "python",
   "name": "python3"
  },
  "language_info": {
   "codemirror_mode": {
    "name": "ipython",
    "version": 3
   },
   "file_extension": ".py",
   "mimetype": "text/x-python",
   "name": "python",
   "nbconvert_exporter": "python",
   "pygments_lexer": "ipython3",
   "version": "3.6.4"
  }
 },
 "nbformat": 4,
 "nbformat_minor": 1
}
